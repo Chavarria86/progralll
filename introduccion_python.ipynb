{
  "nbformat": 4,
  "nbformat_minor": 0,
  "metadata": {
    "colab": {
      "provenance": [],
      "toc_visible": true,
      "authorship_tag": "ABX9TyOPhHw21/cgsDi7Wr9ABkzT",
      "include_colab_link": true
    },
    "kernelspec": {
      "name": "python3",
      "display_name": "Python 3"
    },
    "language_info": {
      "name": "python"
    }
  },
  "cells": [
    {
      "cell_type": "markdown",
      "metadata": {
        "id": "view-in-github",
        "colab_type": "text"
      },
      "source": [
        "<a href=\"https://colab.research.google.com/github/Chavarria86/progralll/blob/main/introduccion_python.ipynb\" target=\"_parent\"><img src=\"https://colab.research.google.com/assets/colab-badge.svg\" alt=\"Open In Colab\"/></a>"
      ]
    },
    {
      "cell_type": "code",
      "execution_count": null,
      "metadata": {
        "colab": {
          "base_uri": "https://localhost:8080/"
        },
        "id": "HN2GaFzQcPZf",
        "outputId": "78161873-d0c3-4966-eb7d-195aaf26161f"
      },
      "outputs": [
        {
          "output_type": "stream",
          "name": "stdout",
          "text": [
            "Hola Mundo\n",
            "Bienvenidos chicos a programacion computacional lll\n"
          ]
        }
      ],
      "source": [
        "print(\"Hola Mundo\")\n",
        "print(\"Bienvenidos chicos a programacion computacional lll\")"
      ]
    },
    {
      "cell_type": "code",
      "source": [
        "nombre = \"Emerson chavarria\"\n",
        "edad = 5\n",
        "print (nombre, edad)\n",
        "\n",
        "edad =\"cinco\"\n",
        "print(\"tu edad \", edad)"
      ],
      "metadata": {
        "colab": {
          "base_uri": "https://localhost:8080/"
        },
        "id": "vp5zdhvndR3a",
        "outputId": "38beaa68-d14e-4881-a14c-5d014a5b8efd"
      },
      "execution_count": null,
      "outputs": [
        {
          "output_type": "stream",
          "name": "stdout",
          "text": [
            "Emerson chavarria 5\n",
            "tu edad  cinco\n"
          ]
        }
      ]
    },
    {
      "cell_type": "code",
      "source": [
        "num1 = 5\n",
        "num2 =8.9\n",
        "suma = num1+ num2\n",
        "print(\"La suma es: \",suma)"
      ],
      "metadata": {
        "colab": {
          "base_uri": "https://localhost:8080/"
        },
        "id": "ts_Buui0eq5z",
        "outputId": "e20a13cd-8cbe-4ee5-e679-20607dd8e931"
      },
      "execution_count": null,
      "outputs": [
        {
          "output_type": "stream",
          "name": "stdout",
          "text": [
            "La suma es:  13.9\n"
          ]
        }
      ]
    },
    {
      "cell_type": "code",
      "source": [
        "num1 = float(input(\"Num1:\"))\n",
        "num2 = float(input (\"Num2:\"))\n",
        "suma = num1 + num2\n",
        "print (\"La suma es :\",suma)"
      ],
      "metadata": {
        "colab": {
          "base_uri": "https://localhost:8080/"
        },
        "id": "ToiFY8Q-fad4",
        "outputId": "7510b669-7638-4a48-c032-b123bb5b49c5"
      },
      "execution_count": null,
      "outputs": [
        {
          "output_type": "stream",
          "name": "stdout",
          "text": [
            "Num1:5\n",
            "Num2:5\n",
            "La suma es : 10.0\n"
          ]
        }
      ]
    },
    {
      "cell_type": "code",
      "source": [
        "num1 = float(input(\"Num1:\"))\n",
        "num2 = float(input (\"Num2:\"))\n",
        "resta = num1 - num2\n",
        "print (\"La resta es :\",resta)"
      ],
      "metadata": {
        "colab": {
          "base_uri": "https://localhost:8080/"
        },
        "id": "Y1b2tgiWhzJ2",
        "outputId": "96fb58a0-88c2-469f-96f3-e9ced60a1516"
      },
      "execution_count": null,
      "outputs": [
        {
          "output_type": "stream",
          "name": "stdout",
          "text": [
            "Num1:5\n",
            "Num2:5\n",
            "La resta es : 0.0\n"
          ]
        }
      ]
    },
    {
      "cell_type": "markdown",
      "source": [
        "TIPOS DE DATOS EN PYTHON\n"
      ],
      "metadata": {
        "id": "A1vBogKPJapr"
      }
    },
    {
      "cell_type": "code",
      "source": [
        "#ENTERO\n",
        "num1 = 6\n",
        "print(num1, \"Esto es un numero entero\")\n",
        "print( str(num1) + \" Esto es un entero\"  )\n",
        "\n",
        "#DECIMAL\n",
        "num2 = 7.5\n",
        "print(num2, \"Esto es un numero decimal\")\n",
        "\n",
        "#BOOLEANO\n",
        "esMayor = True\n",
        "print(esMayor, \"Esto es un booleano\")\n",
        "\n",
        "#CADENA\n",
        "nombre = \"Emerson Chavarria\"\n",
        "cadena = input(\"Dime una cadena: \")\n",
        "valor = int(input(\"Dime un valor: \"))\n",
        "print(nombre, \"Esto es una cadena\", cadena[:valor])\n",
        "\n",
        "print( nombre, \"Letra inicial\", nombre[0],  \"Un valor especifico\", nombre[5], \"rango\", nombre[0:4], \"Comenzar desde el final\", nombre[-1])\n",
        "print( nombre[5:len(nombre)], nombre[:4] )\n",
        "print(type(nombre))"
      ],
      "metadata": {
        "id": "iszgICSTd0aJ",
        "colab": {
          "base_uri": "https://localhost:8080/"
        },
        "outputId": "4c64ba0c-3638-4f55-8055-981b4ee09b09"
      },
      "execution_count": null,
      "outputs": [
        {
          "output_type": "stream",
          "name": "stdout",
          "text": [
            "6 Esto es un numero entero\n",
            "6 Esto es un entero\n",
            "7.5 Esto es un numero decimal\n",
            "True Esto es un booleano\n",
            "Dime una cadena: Emerson\n",
            "Dime un valor: 0\n",
            "Emerson Chavarria Esto es una cadena \n",
            "Emerson Chavarria Letra inicial E Un valor especifico o rango Emer Comenzar desde el final a\n",
            "on Chavarria Emer\n",
            "<class 'str'>\n"
          ]
        }
      ]
    },
    {
      "cell_type": "code",
      "source": [
        "#FECHAS\n",
        "from datetime import datetime, date, time\n",
        "fecha = datetime.now()\n",
        "print(fecha, fecha.date(), fecha.time())\n",
        "print(type(fecha))\n",
        "\n",
        "fechaPersonalizada = date(2025,8,1)\n",
        "print(fechaPersonalizada)\n",
        "\n",
        "fecha = \"2025-08-08\"\n",
        "fecha = datetime.strptime(fecha, \"%Y-%m-%d\")\n",
        "print(fecha)\n",
        "\n",
        "print( fecha.strftime(\"%d/%m/%Y\"), \"Regresamos a clases \" )\n",
        "\n",
        "fechaNac = input(\"Dime tu fecha de nacimiento en formato d-m-Y: \")\n",
        "fechaNac = datetime.strptime(fechaNac, \"%d-%m-%Y\")\n",
        "print(fechaNac)"
      ],
      "metadata": {
        "colab": {
          "base_uri": "https://localhost:8080/"
        },
        "id": "GPq5iQaVJ-v5",
        "outputId": "6a018d01-4964-4e53-a2b7-5d4df4f0d418"
      },
      "execution_count": null,
      "outputs": [
        {
          "output_type": "stream",
          "name": "stdout",
          "text": [
            "2025-07-29 03:09:59.280271 2025-07-29 03:09:59.280271\n",
            "<class 'datetime.datetime'>\n",
            "2025-08-01\n",
            "2025-08-08 00:00:00\n",
            "08/08/2025 Regresamos a clases \n",
            "Dime tu fecha de nacimiento en formato d-m-Y: 26-02-2005\n",
            "2005-02-26 00:00:00\n"
          ]
        }
      ]
    },
    {
      "cell_type": "markdown",
      "source": [
        "FUNCIONES EN PYTHON\n"
      ],
      "metadata": {
        "id": "_v3-8IUjKYTt"
      }
    },
    {
      "cell_type": "code",
      "source": [
        "#Suma\n",
        "def suma (num1,num2):\n",
        " return num1 + num2\n",
        "\n",
        "num1 = float(input(\"Digite su primer numero:  \"))\n",
        "num2 = float(input(\"Digite su segundo numero: \"))\n",
        "respuesta = suma (num1,num2)\n",
        "print(\"El resultado de la suma es: \",respuesta)"
      ],
      "metadata": {
        "colab": {
          "base_uri": "https://localhost:8080/"
        },
        "id": "wI2CesHZKWgB",
        "outputId": "243c8bea-1dda-41a1-90a2-bcb7a59b8806"
      },
      "execution_count": null,
      "outputs": [
        {
          "output_type": "stream",
          "name": "stdout",
          "text": [
            "Digite su primer numero:  50\n",
            "Digite su segundo numero: -10\n",
            "El resultado de la suma es:  40.0\n"
          ]
        }
      ]
    },
    {
      "cell_type": "markdown",
      "source": [
        "TAREA DE RESTA DE DOS NUMEROS INTRODUCIDOS POR EL USUARIO"
      ],
      "metadata": {
        "id": "GZgARyIhMbEK"
      }
    },
    {
      "cell_type": "code",
      "source": [
        "#resta\n",
        "def resta (num1,num2):\n",
        " return num1 - num2\n",
        "num1 = float(input(\"Digite su primer numero:\"))\n",
        "num2 = float(input(\"digite el segundo numero:\"))\n",
        "res = resta (num1,num2)\n",
        "print(\"El resultado de la resta es:\",res)"
      ],
      "metadata": {
        "colab": {
          "base_uri": "https://localhost:8080/"
        },
        "id": "JIYZh349MZiA",
        "outputId": "b3e4e030-15a3-4db7-d15b-ca5ce8ba32f6"
      },
      "execution_count": null,
      "outputs": [
        {
          "output_type": "stream",
          "name": "stdout",
          "text": [
            "Digite su primer numero:2\n",
            "digite el segundo numero:1\n",
            "El resultado de la resta es: 1.0\n"
          ]
        }
      ]
    }
  ]
}