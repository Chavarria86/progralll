{
  "nbformat": 4,
  "nbformat_minor": 0,
  "metadata": {
    "colab": {
      "provenance": [],
      "toc_visible": true,
      "authorship_tag": "ABX9TyO8lXhoexK32hYhcO3PlK2S",
      "include_colab_link": true
    },
    "kernelspec": {
      "name": "python3",
      "display_name": "Python 3"
    },
    "language_info": {
      "name": "python"
    }
  },
  "cells": [
    {
      "cell_type": "markdown",
      "metadata": {
        "id": "view-in-github",
        "colab_type": "text"
      },
      "source": [
        "<a href=\"https://colab.research.google.com/github/Chavarria86/progralll/blob/main/introduccion_python.ipynb\" target=\"_parent\"><img src=\"https://colab.research.google.com/assets/colab-badge.svg\" alt=\"Open In Colab\"/></a>"
      ]
    },
    {
      "cell_type": "code",
      "execution_count": 3,
      "metadata": {
        "colab": {
          "base_uri": "https://localhost:8080/"
        },
        "id": "HN2GaFzQcPZf",
        "outputId": "78161873-d0c3-4966-eb7d-195aaf26161f"
      },
      "outputs": [
        {
          "output_type": "stream",
          "name": "stdout",
          "text": [
            "Hola Mundo\n",
            "Bienvenidos chicos a programacion computacional lll\n"
          ]
        }
      ],
      "source": [
        "print(\"Hola Mundo\")\n",
        "print(\"Bienvenidos chicos a programacion computacional lll\")"
      ]
    },
    {
      "cell_type": "code",
      "source": [
        "nombre = \"Emerson chavarria\"\n",
        "edad = 5\n",
        "print (nombre, edad)\n",
        "\n",
        "edad =\"cinco\"\n",
        "print(\"tu edad \", edad)"
      ],
      "metadata": {
        "colab": {
          "base_uri": "https://localhost:8080/"
        },
        "id": "vp5zdhvndR3a",
        "outputId": "38beaa68-d14e-4881-a14c-5d014a5b8efd"
      },
      "execution_count": 2,
      "outputs": [
        {
          "output_type": "stream",
          "name": "stdout",
          "text": [
            "Emerson chavarria 5\n",
            "tu edad  cinco\n"
          ]
        }
      ]
    },
    {
      "cell_type": "code",
      "source": [
        "num1 = 5\n",
        "num2 =8.9\n",
        "suma = num1+ num2\n",
        "print(\"La suma es: \",suma)"
      ],
      "metadata": {
        "colab": {
          "base_uri": "https://localhost:8080/"
        },
        "id": "ts_Buui0eq5z",
        "outputId": "e20a13cd-8cbe-4ee5-e679-20607dd8e931"
      },
      "execution_count": 4,
      "outputs": [
        {
          "output_type": "stream",
          "name": "stdout",
          "text": [
            "La suma es:  13.9\n"
          ]
        }
      ]
    },
    {
      "cell_type": "code",
      "source": [
        "num1 = float(input(\"Num1:\"))\n",
        "num2 = float(input (\"Num2:\"))\n",
        "suma = num1 + num2\n",
        "print (\"La suma es :\",suma)"
      ],
      "metadata": {
        "colab": {
          "base_uri": "https://localhost:8080/"
        },
        "id": "ToiFY8Q-fad4",
        "outputId": "7510b669-7638-4a48-c032-b123bb5b49c5"
      },
      "execution_count": 5,
      "outputs": [
        {
          "output_type": "stream",
          "name": "stdout",
          "text": [
            "Num1:5\n",
            "Num2:5\n",
            "La suma es : 10.0\n"
          ]
        }
      ]
    },
    {
      "cell_type": "code",
      "source": [
        "num1 = float(input(\"Num1:\"))\n",
        "num2 = float(input (\"Num2:\"))\n",
        "resta = num1 - num2\n",
        "print (\"La resta es :\",resta)"
      ],
      "metadata": {
        "colab": {
          "base_uri": "https://localhost:8080/"
        },
        "id": "Y1b2tgiWhzJ2",
        "outputId": "96fb58a0-88c2-469f-96f3-e9ced60a1516"
      },
      "execution_count": 6,
      "outputs": [
        {
          "output_type": "stream",
          "name": "stdout",
          "text": [
            "Num1:5\n",
            "Num2:5\n",
            "La resta es : 0.0\n"
          ]
        }
      ]
    },
    {
      "cell_type": "code",
      "source": [],
      "metadata": {
        "id": "iszgICSTd0aJ"
      },
      "execution_count": null,
      "outputs": []
    }
  ]
}