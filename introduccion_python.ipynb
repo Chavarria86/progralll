{
  "nbformat": 4,
  "nbformat_minor": 0,
  "metadata": {
    "colab": {
      "provenance": [],
      "toc_visible": true,
      "authorship_tag": "ABX9TyPvEoejre1FnOSPcIDTb4wV",
      "include_colab_link": true
    },
    "kernelspec": {
      "name": "python3",
      "display_name": "Python 3"
    },
    "language_info": {
      "name": "python"
    }
  },
  "cells": [
    {
      "cell_type": "markdown",
      "metadata": {
        "id": "view-in-github",
        "colab_type": "text"
      },
      "source": [
        "<a href=\"https://colab.research.google.com/github/Chavarria86/progralll/blob/main/introduccion_python.ipynb\" target=\"_parent\"><img src=\"https://colab.research.google.com/assets/colab-badge.svg\" alt=\"Open In Colab\"/></a>"
      ]
    },
    {
      "cell_type": "code",
      "execution_count": null,
      "metadata": {
        "colab": {
          "base_uri": "https://localhost:8080/"
        },
        "id": "HN2GaFzQcPZf",
        "outputId": "78161873-d0c3-4966-eb7d-195aaf26161f"
      },
      "outputs": [
        {
          "output_type": "stream",
          "name": "stdout",
          "text": [
            "Hola Mundo\n",
            "Bienvenidos chicos a programacion computacional lll\n"
          ]
        }
      ],
      "source": [
        "print(\"Hola Mundo\")\n",
        "print(\"Bienvenidos chicos a programacion computacional lll\")"
      ]
    },
    {
      "cell_type": "code",
      "source": [
        "nombre = \"Emerson chavarria\"\n",
        "edad = 5\n",
        "print (nombre, edad)\n",
        "\n",
        "edad =\"cinco\"\n",
        "print(\"tu edad \", edad)"
      ],
      "metadata": {
        "colab": {
          "base_uri": "https://localhost:8080/"
        },
        "id": "vp5zdhvndR3a",
        "outputId": "38beaa68-d14e-4881-a14c-5d014a5b8efd"
      },
      "execution_count": null,
      "outputs": [
        {
          "output_type": "stream",
          "name": "stdout",
          "text": [
            "Emerson chavarria 5\n",
            "tu edad  cinco\n"
          ]
        }
      ]
    },
    {
      "cell_type": "code",
      "source": [
        "num1 = 5\n",
        "num2 =8.9\n",
        "suma = num1+ num2\n",
        "print(\"La suma es: \",suma)"
      ],
      "metadata": {
        "colab": {
          "base_uri": "https://localhost:8080/"
        },
        "id": "ts_Buui0eq5z",
        "outputId": "e20a13cd-8cbe-4ee5-e679-20607dd8e931"
      },
      "execution_count": null,
      "outputs": [
        {
          "output_type": "stream",
          "name": "stdout",
          "text": [
            "La suma es:  13.9\n"
          ]
        }
      ]
    },
    {
      "cell_type": "code",
      "source": [
        "num1 = float(input(\"Num1:\"))\n",
        "num2 = float(input (\"Num2:\"))\n",
        "suma = num1 + num2\n",
        "print (\"La suma es :\",suma)"
      ],
      "metadata": {
        "colab": {
          "base_uri": "https://localhost:8080/"
        },
        "id": "ToiFY8Q-fad4",
        "outputId": "7510b669-7638-4a48-c032-b123bb5b49c5"
      },
      "execution_count": null,
      "outputs": [
        {
          "output_type": "stream",
          "name": "stdout",
          "text": [
            "Num1:5\n",
            "Num2:5\n",
            "La suma es : 10.0\n"
          ]
        }
      ]
    },
    {
      "cell_type": "code",
      "source": [
        "num1 = float(input(\"Num1:\"))\n",
        "num2 = float(input (\"Num2:\"))\n",
        "resta = num1 - num2\n",
        "print (\"La resta es :\",resta)"
      ],
      "metadata": {
        "colab": {
          "base_uri": "https://localhost:8080/"
        },
        "id": "Y1b2tgiWhzJ2",
        "outputId": "96fb58a0-88c2-469f-96f3-e9ced60a1516"
      },
      "execution_count": null,
      "outputs": [
        {
          "output_type": "stream",
          "name": "stdout",
          "text": [
            "Num1:5\n",
            "Num2:5\n",
            "La resta es : 0.0\n"
          ]
        }
      ]
    },
    {
      "cell_type": "markdown",
      "source": [
        "TIPOS DE DATOS EN PYTHON\n"
      ],
      "metadata": {
        "id": "A1vBogKPJapr"
      }
    },
    {
      "cell_type": "code",
      "source": [
        "#ENTERO\n",
        "num1 = 6\n",
        "print(num1, \"Esto es un numero entero\")\n",
        "print( str(num1) + \" Esto es un entero\"  )\n",
        "\n",
        "#DECIMAL\n",
        "num2 = 7.5\n",
        "print(num2, \"Esto es un numero decimal\")\n",
        "\n",
        "#BOOLEANO\n",
        "esMayor = True\n",
        "print(esMayor, \"Esto es un booleano\")\n",
        "\n",
        "#CADENA\n",
        "nombre = \"Emerson Chavarria\"\n",
        "cadena = input(\"Dime una cadena: \")\n",
        "valor = int(input(\"Dime un valor: \"))\n",
        "print(nombre, \"Esto es una cadena\", cadena[:valor])\n",
        "\n",
        "print( nombre, \"Letra inicial\", nombre[0],  \"Un valor especifico\", nombre[5], \"rango\", nombre[0:4], \"Comenzar desde el final\", nombre[-1])\n",
        "print( nombre[5:len(nombre)], nombre[:4] )\n",
        "print(type(nombre))"
      ],
      "metadata": {
        "id": "iszgICSTd0aJ",
        "colab": {
          "base_uri": "https://localhost:8080/"
        },
        "outputId": "4c64ba0c-3638-4f55-8055-981b4ee09b09"
      },
      "execution_count": null,
      "outputs": [
        {
          "output_type": "stream",
          "name": "stdout",
          "text": [
            "6 Esto es un numero entero\n",
            "6 Esto es un entero\n",
            "7.5 Esto es un numero decimal\n",
            "True Esto es un booleano\n",
            "Dime una cadena: Emerson\n",
            "Dime un valor: 0\n",
            "Emerson Chavarria Esto es una cadena \n",
            "Emerson Chavarria Letra inicial E Un valor especifico o rango Emer Comenzar desde el final a\n",
            "on Chavarria Emer\n",
            "<class 'str'>\n"
          ]
        }
      ]
    },
    {
      "cell_type": "code",
      "source": [
        "#FECHAS\n",
        "from datetime import datetime, date, time\n",
        "fecha = datetime.now()\n",
        "print(fecha, fecha.date(), fecha.time())\n",
        "print(type(fecha))\n",
        "\n",
        "fechaPersonalizada = date(2025,8,1)\n",
        "print(fechaPersonalizada)\n",
        "\n",
        "fecha = \"2025-08-08\"\n",
        "fecha = datetime.strptime(fecha, \"%Y-%m-%d\")\n",
        "print(fecha)\n",
        "\n",
        "print( fecha.strftime(\"%d/%m/%Y\"), \"Regresamos a clases \" )\n",
        "\n",
        "fechaNac = input(\"Dime tu fecha de nacimiento en formato d-m-Y: \")\n",
        "fechaNac = datetime.strptime(fechaNac, \"%d-%m-%Y\")\n",
        "print(fechaNac)"
      ],
      "metadata": {
        "colab": {
          "base_uri": "https://localhost:8080/"
        },
        "id": "GPq5iQaVJ-v5",
        "outputId": "6a018d01-4964-4e53-a2b7-5d4df4f0d418"
      },
      "execution_count": null,
      "outputs": [
        {
          "output_type": "stream",
          "name": "stdout",
          "text": [
            "2025-07-29 03:09:59.280271 2025-07-29 03:09:59.280271\n",
            "<class 'datetime.datetime'>\n",
            "2025-08-01\n",
            "2025-08-08 00:00:00\n",
            "08/08/2025 Regresamos a clases \n",
            "Dime tu fecha de nacimiento en formato d-m-Y: 26-02-2005\n",
            "2005-02-26 00:00:00\n"
          ]
        }
      ]
    },
    {
      "cell_type": "markdown",
      "source": [
        "FUNCIONES EN PYTHON\n"
      ],
      "metadata": {
        "id": "_v3-8IUjKYTt"
      }
    },
    {
      "cell_type": "code",
      "source": [
        "#Suma\n",
        "def suma (num1,num2):\n",
        " return num1 + num2\n",
        "\n",
        "num1 = float(input(\"Digite su primer numero:  \"))\n",
        "num2 = float(input(\"Digite su segundo numero: \"))\n",
        "respuesta = suma (num1,num2)\n",
        "print(\"El resultado de la suma es: \",respuesta)"
      ],
      "metadata": {
        "colab": {
          "base_uri": "https://localhost:8080/"
        },
        "id": "wI2CesHZKWgB",
        "outputId": "243c8bea-1dda-41a1-90a2-bcb7a59b8806"
      },
      "execution_count": null,
      "outputs": [
        {
          "output_type": "stream",
          "name": "stdout",
          "text": [
            "Digite su primer numero:  50\n",
            "Digite su segundo numero: -10\n",
            "El resultado de la suma es:  40.0\n"
          ]
        }
      ]
    },
    {
      "cell_type": "markdown",
      "source": [
        "TAREA DE RESTA DE DOS NUMEROS INTRODUCIDOS POR EL USUARIO"
      ],
      "metadata": {
        "id": "GZgARyIhMbEK"
      }
    },
    {
      "cell_type": "code",
      "source": [
        "#resta\n",
        "def resta (num1,num2):\n",
        " return num1 - num2\n",
        "num1 = float(input(\"Digite su primer numero:\"))\n",
        "num2 = float(input(\"digite el segundo numero:\"))\n",
        "res = resta (num1,num2)\n",
        "print(\"El resultado de la resta es:\",res)"
      ],
      "metadata": {
        "colab": {
          "base_uri": "https://localhost:8080/"
        },
        "id": "JIYZh349MZiA",
        "outputId": "b3e4e030-15a3-4db7-d15b-ca5ce8ba32f6"
      },
      "execution_count": null,
      "outputs": [
        {
          "output_type": "stream",
          "name": "stdout",
          "text": [
            "Digite su primer numero:2\n",
            "digite el segundo numero:1\n",
            "El resultado de la resta es: 1.0\n"
          ]
        }
      ]
    },
    {
      "cell_type": "code",
      "source": [
        "#hacer un ejercicio e python haciendo uso de funciones de usuarios, que convierta grados celcius a farenheit.\n",
        "def celciusFarenheit(c):\n",
        "  return c*1.8 + 32\n"
      ],
      "metadata": {
        "id": "2OwuA0JYT8sb"
      },
      "execution_count": null,
      "outputs": []
    },
    {
      "cell_type": "code",
      "source": [
        "#hacer un ejercicio e python haciendo uso de funciones de usuarios, que convierta grados celcius a farenheit.\n",
        "def celciusFarenheit(c):\n",
        "  return c*1.8 + 32\n",
        "\n",
        "c = int(input(\"Grados Celcius: \"))\n",
        "f = celciusFarenheit(c)\n",
        "print(\"Grados Farenheit: \",f)"
      ],
      "metadata": {
        "colab": {
          "base_uri": "https://localhost:8080/"
        },
        "id": "RCMSF5V9XVjr",
        "outputId": "0094f5ac-fd0c-4c30-f430-1fb75eb2ba8e"
      },
      "execution_count": null,
      "outputs": [
        {
          "output_type": "stream",
          "name": "stdout",
          "text": [
            "Grados Celcius: 35\n",
            "Grados Farenheit:  95.0\n"
          ]
        }
      ]
    },
    {
      "cell_type": "code",
      "source": [
        "#hacer un ejercicio e python haciendo uso de funciones de usuarios, que convierta grados farenheit a celcius.\n",
        "def farenheitCelcius(f):\n",
        " return (f-32)*5/9"
      ],
      "metadata": {
        "id": "EuPObYNXZYrp"
      },
      "execution_count": null,
      "outputs": []
    },
    {
      "cell_type": "code",
      "source": [
        "C = int(input(\"Grados F: \"))\n",
        "F = farenheitCelcius(C)\n",
        "print(\"Grados C: \",F)\n"
      ],
      "metadata": {
        "colab": {
          "base_uri": "https://localhost:8080/"
        },
        "id": "d21HxDJ_aRyc",
        "outputId": "0e0c4659-02c0-45c5-8ca4-940b5a67f5e8"
      },
      "execution_count": null,
      "outputs": [
        {
          "output_type": "stream",
          "name": "stdout",
          "text": [
            "Grados F: 100\n",
            "Grados C:  37.77777777777778\n"
          ]
        }
      ]
    },
    {
      "cell_type": "code",
      "source": [
        "def farenheitCelcius(f):\n",
        " return (f-32)*5/9\n",
        "\n",
        "f = float(input(\"Grados F: \"))\n",
        "c = farenheitCelcius(f)\n",
        "print(\"Grados C: \",c)"
      ],
      "metadata": {
        "colab": {
          "base_uri": "https://localhost:8080/"
        },
        "id": "Nf8BbWmEbpfq",
        "outputId": "f775b0c6-1bd8-4d8d-81a9-ba7462657b91"
      },
      "execution_count": null,
      "outputs": [
        {
          "output_type": "stream",
          "name": "stdout",
          "text": [
            "Grados F: 100.4\n",
            "Grados C:  38.0\n"
          ]
        }
      ]
    },
    {
      "cell_type": "code",
      "source": [
        "#hacer un ejercicio e python haciendo uso de funciones de usuarios, que convierta grados celcius a kelvin.\n",
        "def celciusKelvin (k):\n",
        "  return (f-32) * 5/9 + 273.15\n"
      ],
      "metadata": {
        "id": "8yMEQzine5EA"
      },
      "execution_count": null,
      "outputs": []
    },
    {
      "cell_type": "code",
      "source": [
        "#hacer un ejercicio e python haciendo uso de funciones de usuarios, que convierta grados celcius a kelvin.\n",
        "def celciusKelvin (c):\n",
        "  return c + 273.15\n",
        "\n",
        "c = float(input(\"grados c a K:\"))\n",
        "k = celciusKelvin(c)\n",
        "print(\"grados K:\",k)"
      ],
      "metadata": {
        "colab": {
          "base_uri": "https://localhost:8080/"
        },
        "id": "lHHhxz95fkNR",
        "outputId": "f8734bb6-2a77-42d7-cbf9-6e66eb2f4bd7"
      },
      "execution_count": null,
      "outputs": [
        {
          "output_type": "stream",
          "name": "stdout",
          "text": [
            "grados c a K:38\n",
            "grados K: 311.15\n"
          ]
        }
      ]
    },
    {
      "cell_type": "code",
      "source": [
        "#hacer un ejercicio e python haciendo uso de funciones, que calcule el salario de un empledos segun horas trabajadas.\n",
        "def sueldo (numHrs,valorXhr):\n",
        "  sueldo = numHrs * valorXhr * 30\n",
        "  return sueldo"
      ],
      "metadata": {
        "id": "cyJOy-KohlDa"
      },
      "execution_count": null,
      "outputs": []
    },
    {
      "cell_type": "code",
      "source": [
        "numHrs = float(input(\"Horas trabajadas: \"))\n",
        "valorXhr = float(input(\"Valor por hora: \"))\n",
        "sueldo = sueldo(numHrs,valorXhr)\n",
        "print(\"Sueldo: \",sueldo)"
      ],
      "metadata": {
        "id": "D8DAKT2Kibb8",
        "outputId": "bb0095d3-423f-404c-ae8d-ac59851588ca",
        "colab": {
          "base_uri": "https://localhost:8080/"
        }
      },
      "execution_count": null,
      "outputs": [
        {
          "output_type": "stream",
          "name": "stdout",
          "text": [
            "Horas trabajadas: 8\n",
            "Valor por hora: 5\n",
            "Sueldo:  1200.0\n"
          ]
        }
      ]
    },
    {
      "cell_type": "code",
      "source": [
        "def exponenciacion(b,e):\n",
        "  return b**e\n",
        "\n",
        "b = float(input(\"Base: \"))\n",
        "e = float(input(\"Exponente: \"))\n",
        "\n",
        "resultado = exponenciacion(b,e)\n",
        "print(\"El numero:\",b, \" elevado a\",e,\"el resultado es:\", resultado)"
      ],
      "metadata": {
        "id": "KeKqltrzkY1g",
        "outputId": "2b40fca0-6295-4bad-b0c5-7ab7369b04b5",
        "colab": {
          "base_uri": "https://localhost:8080/"
        }
      },
      "execution_count": null,
      "outputs": [
        {
          "output_type": "stream",
          "name": "stdout",
          "text": [
            "Base: 2\n",
            "Exponente: 2\n",
            "El numero: 2.0  elevado a 2.0 el resultado es: 4.0\n"
          ]
        }
      ]
    },
    {
      "cell_type": "markdown",
      "source": [
        "FUNCIONES ANONIMAS"
      ],
      "metadata": {
        "id": "BzRNXoFkayBc"
      }
    },
    {
      "cell_type": "code",
      "source": [
        "def suma (a,b):\n",
        "  return a+b\n"
      ],
      "metadata": {
        "id": "FPJKFzaDaxYE"
      },
      "execution_count": null,
      "outputs": []
    },
    {
      "cell_type": "code",
      "source": [
        "a = float(input(\"Digite su primer numero: \"))\n",
        "b = float(input(\"Digite su segundo numero: \"))\n",
        "suma = suma(a,b)\n",
        "print(\"La suma es: \",suma)"
      ],
      "metadata": {
        "id": "O3ggU9abbTG-",
        "outputId": "6a4c540d-4457-4720-9635-6705d03cbd80",
        "colab": {
          "base_uri": "https://localhost:8080/"
        }
      },
      "execution_count": null,
      "outputs": [
        {
          "output_type": "stream",
          "name": "stdout",
          "text": [
            "Digite su primer numero: 5\n",
            "Digite su segundo numero: 6\n",
            "La suma es:  11.0\n"
          ]
        }
      ]
    },
    {
      "cell_type": "code",
      "source": [
        "a = float(input(\"Num1: \"))\n",
        "b = float(input(\"Num2: \"))\n",
        "\n",
        "sum = lambda a,b: a+b\n",
        "print( \"La suma de \", a, \" mas b \", b, \" es igual \", sum(a,b) )"
      ],
      "metadata": {
        "id": "GXTGyClTcEEq",
        "outputId": "59932757-33f5-4c7f-92ce-1eda59ebeec5",
        "colab": {
          "base_uri": "https://localhost:8080/"
        }
      },
      "execution_count": null,
      "outputs": [
        {
          "output_type": "stream",
          "name": "stdout",
          "text": [
            "Num1: 5\n",
            "Num2: 6\n",
            "La suma de  5.0  mas b  6.0  es igual  11.0\n"
          ]
        }
      ]
    },
    {
      "cell_type": "markdown",
      "source": [
        "Funciones Preconstruidas"
      ],
      "metadata": {
        "id": "u40YURkFcQC1"
      }
    },
    {
      "cell_type": "code",
      "source": [
        "def extraerPrimeraLetra(dia):\n",
        "  return dia[0]"
      ],
      "metadata": {
        "id": "HU9yBwIhcWYF"
      },
      "execution_count": null,
      "outputs": []
    },
    {
      "cell_type": "code",
      "source": [
        "#map\n",
        "semana = [\"Domingo\", \"Lunes\", \"Martes\", \"Miercoles\", \"Jueves\", \"Viernes\", \"Sabado\"]\n",
        "\n",
        "primeraLetraDia = map(lambda dia: dia[0], semana)\n",
        "print(list(primeraLetraDia))\n",
        "\n",
        "mayusSemana = map(lambda dia: dia.upper(), semana)\n",
        "print(list(mayusSemana))\n",
        "\n",
        "print( list(map(extraerPrimeraLetra, semana)) )"
      ],
      "metadata": {
        "id": "xgzbu1KEcYFw",
        "outputId": "9d284e4e-082f-4e27-975c-49080c4373f8",
        "colab": {
          "base_uri": "https://localhost:8080/"
        }
      },
      "execution_count": null,
      "outputs": [
        {
          "output_type": "stream",
          "name": "stdout",
          "text": [
            "['D', 'L', 'M', 'M', 'J', 'V', 'S']\n",
            "['DOMINGO', 'LUNES', 'MARTES', 'MIERCOLES', 'JUEVES', 'VIERNES', 'SABADO']\n",
            "['D', 'L', 'M', 'M', 'J', 'V', 'S']\n"
          ]
        }
      ]
    },
    {
      "cell_type": "code",
      "source": [
        "numeros = [2,4,6,8,7,9]\n",
        "potencia = int(input(\"Potencia: \"))\n",
        "numeroPotencia = map(lambda num: num**potencia, numeros)\n",
        "\n",
        "print(list(numeroPotencia))"
      ],
      "metadata": {
        "id": "ivO6OcGacuQc",
        "outputId": "7fd9adfa-df7c-4bd3-c0ff-17f027568a78",
        "colab": {
          "base_uri": "https://localhost:8080/"
        }
      },
      "execution_count": null,
      "outputs": [
        {
          "output_type": "stream",
          "name": "stdout",
          "text": [
            "Potencia: 2\n",
            "[4, 16, 36, 64, 49, 81]\n"
          ]
        }
      ]
    },
    {
      "cell_type": "code",
      "source": [
        "ntabla  = int(input(\"Tabla:\"))\n",
        "numeros = [1,2,3,4,5,6,7,8,9,10]\n",
        "tabla = map(lambda num: num*ntabla, numeros)\n",
        "\n",
        "print(list(tabla))"
      ],
      "metadata": {
        "id": "cNVGxebrc1u6",
        "outputId": "c07b89b6-d3a1-43fe-badc-7980f5eb33bd",
        "colab": {
          "base_uri": "https://localhost:8080/"
        }
      },
      "execution_count": null,
      "outputs": [
        {
          "output_type": "stream",
          "name": "stdout",
          "text": [
            "Tabla:7\n",
            "[7, 14, 21, 28, 35, 42, 49, 56, 63, 70]\n"
          ]
        }
      ]
    },
    {
      "cell_type": "code",
      "source": [
        "serie = [5,6,9,2,7,8]\n",
        "pares = filter(lambda num: num%2==0, serie) #% ===> a modulo, obtener el residuo.\n",
        "\n",
        "print(list(pares))\n",
        "\n",
        "impares = filter(lambda num: num%2!=0, serie)\n",
        "\n",
        "print(list(impares))"
      ],
      "metadata": {
        "id": "vixC29YPeJA8",
        "outputId": "e87c1312-f85b-4f41-ada5-955ba440fe1d",
        "colab": {
          "base_uri": "https://localhost:8080/"
        }
      },
      "execution_count": null,
      "outputs": [
        {
          "output_type": "stream",
          "name": "stdout",
          "text": [
            "[6, 2, 8]\n",
            "[5, 9, 7]\n"
          ]
        }
      ]
    },
    {
      "cell_type": "code",
      "source": [
        "\n",
        "serieUser = input(\"Serie: \")\n",
        "serieUser = serieUser.split(\",\")\n",
        "\n",
        "pares = filter(lambda num: int(num)%2==0, serieUser)\n",
        "impares = filter(lambda num: int(num)%2!=0, serieUser)\n",
        "\n",
        "print(\"Pares: \",list(pares))\n",
        "print(\"Impares: \", list(impares))"
      ],
      "metadata": {
        "id": "6vZgZpq8ech2",
        "outputId": "856d6aa3-946a-4049-deb3-7e0d4dd090d8",
        "colab": {
          "base_uri": "https://localhost:8080/"
        }
      },
      "execution_count": null,
      "outputs": [
        {
          "output_type": "stream",
          "name": "stdout",
          "text": [
            "Serie: 4,6,8,1,3,9,7,2\n",
            "Pares:  ['4', '6', '8', '2']\n",
            "Impares:  ['1', '3', '9', '7']\n"
          ]
        }
      ]
    },
    {
      "cell_type": "code",
      "source": [
        "notas = list(map(float, input(\"Notas: \").split()))\n",
        "print(\"Aprobados:\", len(list(filter(lambda num: num > 6, notas))))\n",
        "print(\"Reprobados:\", len(list(filter(lambda num: num < 6, notas))))\n"
      ],
      "metadata": {
        "id": "9p7nEsFzemkl",
        "outputId": "662eab64-b487-4dbb-a5aa-ea9411d7d589",
        "colab": {
          "base_uri": "https://localhost:8080/"
        }
      },
      "execution_count": null,
      "outputs": [
        {
          "output_type": "stream",
          "name": "stdout",
          "text": [
            "Notas: 3 4 5 6 7 8 9 1 2 10\n",
            "Aprobados: 4\n",
            "Reprobados: 5\n"
          ]
        }
      ]
    },
    {
      "cell_type": "code",
      "source": [
        "#reduce\n",
        "from functools import reduce\n",
        "\n",
        "numeros = [5,4,9,6,8,2,3]\n",
        "suma = reduce(lambda acum, num : num+acum, numeros)\n",
        "\n",
        "sumaPares = reduce(lambda acum, num : num+acum, filter(lambda num: num%2==0, numeros))\n",
        "sumaPar = reduce(lambda acum, num : acum + num if num%2==0 else acum, numeros,0)\n",
        "\n",
        "print(\"La suma es: \", suma)\n",
        "print(\"La suma de los pares es: \", sumaPares)\n",
        "print(\"Suma Pares: \", sumaPar)"
      ],
      "metadata": {
        "id": "hp4uOaKbf52f",
        "outputId": "769c4409-e675-487c-d858-1b7458ebbbeb",
        "colab": {
          "base_uri": "https://localhost:8080/"
        }
      },
      "execution_count": null,
      "outputs": [
        {
          "output_type": "stream",
          "name": "stdout",
          "text": [
            "La suma es:  37\n",
            "La suma de los pares es:  20\n",
            "Suma Pares:  13\n"
          ]
        }
      ]
    },
    {
      "cell_type": "markdown",
      "source": [
        "TUPLAS"
      ],
      "metadata": {
        "id": "gBfF22I6fB8z"
      }
    },
    {
      "cell_type": "code",
      "source": [
        "tupla = (2,3,4,5,6,1,8,9)\n",
        "#tupla [0] = 6\n",
        "print(\"TUPLA :\",tupla,\"primer elemento: \",tupla[0],\"Numero se repite las veces: \", tupla.count(2))\n",
        "print(\"Ultimo elemento: \",tupla[-1])\n",
        "print(\"Rango: \",tupla[0:2])"
      ],
      "metadata": {
        "id": "X-0zgilGfD-C",
        "outputId": "e90f5661-9bdd-4f89-ad4b-c7a7b50adc77",
        "colab": {
          "base_uri": "https://localhost:8080/"
        }
      },
      "execution_count": 10,
      "outputs": [
        {
          "output_type": "stream",
          "name": "stdout",
          "text": [
            "TUPLA : (2, 3, 4, 5, 6, 1, 8, 9) primer elemento:  2 Numero se repite las veces:  1\n",
            "Ultimo elemento:  9\n",
            "Rango:  (2, 3, 4)\n"
          ]
        }
      ]
    },
    {
      "cell_type": "code",
      "source": [
        "import datetime\n",
        "fecha = datetime.date.today()\n",
        "\n",
        "semana = (\"Domingo\",\"Lunes\",\"Martes\",\"Miercoles\",\"Jueves\",\"Viernes\",\"Sabado\")\n",
        "meses =(\"\",\"Enero\",\"Febrero\",\"Marzo\",\"Abril\",\"Mayo\",\"Junio\",\"Julio\",\"Agosto\",\"Septiembre\",\"Octubre\",\"Noviembre\",\"Diciembre\")\n",
        "dia = fecha.day\n",
        "mes = fecha.month\n",
        "year = fecha.year\n",
        "diaSemana = semana[fecha.isoweekday()]\n",
        "\n",
        "print(diaSemana,dia,\"del\",meses[mes],\"del\",year)\n",
        "print(fecha,fecha.isoweekday(),diaSemana)\n",
        "print(dia,mes,year)\n"
      ],
      "metadata": {
        "id": "COJRojwhicVH",
        "outputId": "25d25e65-bb8d-4ebd-9d05-5375615441f9",
        "colab": {
          "base_uri": "https://localhost:8080/"
        }
      },
      "execution_count": 13,
      "outputs": [
        {
          "output_type": "stream",
          "name": "stdout",
          "text": [
            "Martes 12 del Agosto del 2025\n",
            "2025-08-12 2 Martes\n",
            "12 8 2025\n"
          ]
        }
      ]
    },
    {
      "cell_type": "markdown",
      "source": [
        "LISTAS"
      ],
      "metadata": {
        "id": "3gGxI3Kol9PP"
      }
    },
    {
      "cell_type": "code",
      "source": [
        "lista = [5,6,7,8,9,\"progra lll\",True,[1,2,3,4,5,[4,3,4]]]\n",
        "print(lista)"
      ],
      "metadata": {
        "id": "f8ICcsg9mBIy",
        "outputId": "ce74b6e9-ad4e-41e8-a990-d6970552fdde",
        "colab": {
          "base_uri": "https://localhost:8080/"
        }
      },
      "execution_count": 15,
      "outputs": [
        {
          "output_type": "stream",
          "name": "stdout",
          "text": [
            "[5, 6, 7, 8, 9, 'progra lll', True, [1, 2, 3, 4, 5, [4, 3, 4]]]\n"
          ]
        }
      ]
    },
    {
      "cell_type": "code",
      "source": [
        "def calcularPromedio(nota,notas):\n",
        "  return notas[1]*0.3*notas[2] + nota"
      ],
      "metadata": {
        "id": "Bo_fsdSVnjEs"
      },
      "execution_count": 27,
      "outputs": []
    },
    {
      "cell_type": "code",
      "source": [
        "# hacer un ejercicio en python que obtenga la nota final de progra lll del computo1 haciendo uso de las listas de las funciones\n",
        "from functools import reduce\n",
        "\n",
        "notas = [[\"Lab1,\",8,0.3],[\"LAB2\",9,0.3],[\"Parcial\",10,0.4]]\n",
        "prom = reduce(calcularPromedio, notas,0)\n",
        "print(\"Nota final:\",prom)\n"
      ],
      "metadata": {
        "id": "fZtAbEmSnBTb",
        "outputId": "15594cac-c8ce-4098-c413-8c345fac2883",
        "colab": {
          "base_uri": "https://localhost:8080/"
        }
      },
      "execution_count": 28,
      "outputs": [
        {
          "output_type": "stream",
          "name": "stdout",
          "text": [
            "Nota final: 2.73\n"
          ]
        }
      ]
    }
  ]
}